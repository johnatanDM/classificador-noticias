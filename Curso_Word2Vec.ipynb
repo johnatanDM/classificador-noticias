{
  "nbformat": 4,
  "nbformat_minor": 0,
  "metadata": {
    "colab": {
      "provenance": []
    },
    "kernelspec": {
      "name": "python3",
      "display_name": "Python 3"
    },
    "language_info": {
      "name": "python"
    }
  },
  "cells": [
    {
      "cell_type": "code",
      "execution_count": null,
      "metadata": {
        "id": "5e_OivnsHiZZ"
      },
      "outputs": [],
      "source": [
        "import pandas as pd\n",
        "\n",
        "dados_treino = pd.read_csv('https://caelum-online-public.s3.amazonaws.com/1638-word-embedding/treino.csv')\n",
        "dados_teste = pd.read_csv('https://caelum-online-public.s3.amazonaws.com/1638-word-embedding/teste.csv')\n",
        "\n"
      ]
    },
    {
      "cell_type": "code",
      "source": [
        "dados_treino.head()"
      ],
      "metadata": {
        "colab": {
          "base_uri": "https://localhost:8080/",
          "height": 337
        },
        "id": "DB6JJF13Id_y",
        "outputId": "4294161d-355c-459d-8596-65cec8d86a16"
      },
      "execution_count": null,
      "outputs": [
        {
          "output_type": "execute_result",
          "data": {
            "text/plain": [
              "                                               title  \\\n",
              "0  Após polêmica, Marine Le Pen diz que abomina n...   \n",
              "1  Macron e Le Pen vão ao 2º turno na França, em ...   \n",
              "2  Apesar de larga vitória nas legislativas, Macr...   \n",
              "3  Governo antecipa balanço, e Alckmin anuncia qu...   \n",
              "4  Após queda em maio, a atividade econômica sobe...   \n",
              "\n",
              "                                                text        date   category  \\\n",
              "0  A candidata da direita nacionalista à Presidên...  2017-04-28      mundo   \n",
              "1  O centrista independente Emmanuel Macron e a d...  2017-04-23      mundo   \n",
              "2  As eleições legislativas deste domingo (19) na...  2017-06-19      mundo   \n",
              "3  O número de ocorrências de homicídios dolosos ...  2015-07-24  cotidiano   \n",
              "4  A economia cresceu 0,25% no segundo trimestre,...  2017-08-17    mercado   \n",
              "\n",
              "  subcategory                                               link  \n",
              "0         NaN  http://www1.folha.uol.com.br/mundo/2017/04/187...  \n",
              "1         NaN  http://www1.folha.uol.com.br/mundo/2017/04/187...  \n",
              "2         NaN  http://www1.folha.uol.com.br/mundo/2017/06/189...  \n",
              "3         NaN  http://www1.folha.uol.com.br/cotidiano/2015/07...  \n",
              "4         NaN  http://www1.folha.uol.com.br/mercado/2017/08/1...  "
            ],
            "text/html": [
              "\n",
              "  <div id=\"df-a25f8d8f-46ab-4e8b-a1e4-a493b2a3b264\">\n",
              "    <div class=\"colab-df-container\">\n",
              "      <div>\n",
              "<style scoped>\n",
              "    .dataframe tbody tr th:only-of-type {\n",
              "        vertical-align: middle;\n",
              "    }\n",
              "\n",
              "    .dataframe tbody tr th {\n",
              "        vertical-align: top;\n",
              "    }\n",
              "\n",
              "    .dataframe thead th {\n",
              "        text-align: right;\n",
              "    }\n",
              "</style>\n",
              "<table border=\"1\" class=\"dataframe\">\n",
              "  <thead>\n",
              "    <tr style=\"text-align: right;\">\n",
              "      <th></th>\n",
              "      <th>title</th>\n",
              "      <th>text</th>\n",
              "      <th>date</th>\n",
              "      <th>category</th>\n",
              "      <th>subcategory</th>\n",
              "      <th>link</th>\n",
              "    </tr>\n",
              "  </thead>\n",
              "  <tbody>\n",
              "    <tr>\n",
              "      <th>0</th>\n",
              "      <td>Após polêmica, Marine Le Pen diz que abomina n...</td>\n",
              "      <td>A candidata da direita nacionalista à Presidên...</td>\n",
              "      <td>2017-04-28</td>\n",
              "      <td>mundo</td>\n",
              "      <td>NaN</td>\n",
              "      <td>http://www1.folha.uol.com.br/mundo/2017/04/187...</td>\n",
              "    </tr>\n",
              "    <tr>\n",
              "      <th>1</th>\n",
              "      <td>Macron e Le Pen vão ao 2º turno na França, em ...</td>\n",
              "      <td>O centrista independente Emmanuel Macron e a d...</td>\n",
              "      <td>2017-04-23</td>\n",
              "      <td>mundo</td>\n",
              "      <td>NaN</td>\n",
              "      <td>http://www1.folha.uol.com.br/mundo/2017/04/187...</td>\n",
              "    </tr>\n",
              "    <tr>\n",
              "      <th>2</th>\n",
              "      <td>Apesar de larga vitória nas legislativas, Macr...</td>\n",
              "      <td>As eleições legislativas deste domingo (19) na...</td>\n",
              "      <td>2017-06-19</td>\n",
              "      <td>mundo</td>\n",
              "      <td>NaN</td>\n",
              "      <td>http://www1.folha.uol.com.br/mundo/2017/06/189...</td>\n",
              "    </tr>\n",
              "    <tr>\n",
              "      <th>3</th>\n",
              "      <td>Governo antecipa balanço, e Alckmin anuncia qu...</td>\n",
              "      <td>O número de ocorrências de homicídios dolosos ...</td>\n",
              "      <td>2015-07-24</td>\n",
              "      <td>cotidiano</td>\n",
              "      <td>NaN</td>\n",
              "      <td>http://www1.folha.uol.com.br/cotidiano/2015/07...</td>\n",
              "    </tr>\n",
              "    <tr>\n",
              "      <th>4</th>\n",
              "      <td>Após queda em maio, a atividade econômica sobe...</td>\n",
              "      <td>A economia cresceu 0,25% no segundo trimestre,...</td>\n",
              "      <td>2017-08-17</td>\n",
              "      <td>mercado</td>\n",
              "      <td>NaN</td>\n",
              "      <td>http://www1.folha.uol.com.br/mercado/2017/08/1...</td>\n",
              "    </tr>\n",
              "  </tbody>\n",
              "</table>\n",
              "</div>\n",
              "      <button class=\"colab-df-convert\" onclick=\"convertToInteractive('df-a25f8d8f-46ab-4e8b-a1e4-a493b2a3b264')\"\n",
              "              title=\"Convert this dataframe to an interactive table.\"\n",
              "              style=\"display:none;\">\n",
              "        \n",
              "  <svg xmlns=\"http://www.w3.org/2000/svg\" height=\"24px\"viewBox=\"0 0 24 24\"\n",
              "       width=\"24px\">\n",
              "    <path d=\"M0 0h24v24H0V0z\" fill=\"none\"/>\n",
              "    <path d=\"M18.56 5.44l.94 2.06.94-2.06 2.06-.94-2.06-.94-.94-2.06-.94 2.06-2.06.94zm-11 1L8.5 8.5l.94-2.06 2.06-.94-2.06-.94L8.5 2.5l-.94 2.06-2.06.94zm10 10l.94 2.06.94-2.06 2.06-.94-2.06-.94-.94-2.06-.94 2.06-2.06.94z\"/><path d=\"M17.41 7.96l-1.37-1.37c-.4-.4-.92-.59-1.43-.59-.52 0-1.04.2-1.43.59L10.3 9.45l-7.72 7.72c-.78.78-.78 2.05 0 2.83L4 21.41c.39.39.9.59 1.41.59.51 0 1.02-.2 1.41-.59l7.78-7.78 2.81-2.81c.8-.78.8-2.07 0-2.86zM5.41 20L4 18.59l7.72-7.72 1.47 1.35L5.41 20z\"/>\n",
              "  </svg>\n",
              "      </button>\n",
              "      \n",
              "  <style>\n",
              "    .colab-df-container {\n",
              "      display:flex;\n",
              "      flex-wrap:wrap;\n",
              "      gap: 12px;\n",
              "    }\n",
              "\n",
              "    .colab-df-convert {\n",
              "      background-color: #E8F0FE;\n",
              "      border: none;\n",
              "      border-radius: 50%;\n",
              "      cursor: pointer;\n",
              "      display: none;\n",
              "      fill: #1967D2;\n",
              "      height: 32px;\n",
              "      padding: 0 0 0 0;\n",
              "      width: 32px;\n",
              "    }\n",
              "\n",
              "    .colab-df-convert:hover {\n",
              "      background-color: #E2EBFA;\n",
              "      box-shadow: 0px 1px 2px rgba(60, 64, 67, 0.3), 0px 1px 3px 1px rgba(60, 64, 67, 0.15);\n",
              "      fill: #174EA6;\n",
              "    }\n",
              "\n",
              "    [theme=dark] .colab-df-convert {\n",
              "      background-color: #3B4455;\n",
              "      fill: #D2E3FC;\n",
              "    }\n",
              "\n",
              "    [theme=dark] .colab-df-convert:hover {\n",
              "      background-color: #434B5C;\n",
              "      box-shadow: 0px 1px 3px 1px rgba(0, 0, 0, 0.15);\n",
              "      filter: drop-shadow(0px 1px 2px rgba(0, 0, 0, 0.3));\n",
              "      fill: #FFFFFF;\n",
              "    }\n",
              "  </style>\n",
              "\n",
              "      <script>\n",
              "        const buttonEl =\n",
              "          document.querySelector('#df-a25f8d8f-46ab-4e8b-a1e4-a493b2a3b264 button.colab-df-convert');\n",
              "        buttonEl.style.display =\n",
              "          google.colab.kernel.accessAllowed ? 'block' : 'none';\n",
              "\n",
              "        async function convertToInteractive(key) {\n",
              "          const element = document.querySelector('#df-a25f8d8f-46ab-4e8b-a1e4-a493b2a3b264');\n",
              "          const dataTable =\n",
              "            await google.colab.kernel.invokeFunction('convertToInteractive',\n",
              "                                                     [key], {});\n",
              "          if (!dataTable) return;\n",
              "\n",
              "          const docLinkHtml = 'Like what you see? Visit the ' +\n",
              "            '<a target=\"_blank\" href=https://colab.research.google.com/notebooks/data_table.ipynb>data table notebook</a>'\n",
              "            + ' to learn more about interactive tables.';\n",
              "          element.innerHTML = '';\n",
              "          dataTable['output_type'] = 'display_data';\n",
              "          await google.colab.output.renderOutput(dataTable, element);\n",
              "          const docLink = document.createElement('div');\n",
              "          docLink.innerHTML = docLinkHtml;\n",
              "          element.appendChild(docLink);\n",
              "        }\n",
              "      </script>\n",
              "    </div>\n",
              "  </div>\n",
              "  "
            ]
          },
          "metadata": {},
          "execution_count": 3
        }
      ]
    },
    {
      "cell_type": "code",
      "source": [
        "dados_teste.head()"
      ],
      "metadata": {
        "colab": {
          "base_uri": "https://localhost:8080/",
          "height": 337
        },
        "id": "kCtNvgDMIg6d",
        "outputId": "33fe62d7-f8e5-456c-870e-0736d3d8ad04"
      },
      "execution_count": null,
      "outputs": [
        {
          "output_type": "execute_result",
          "data": {
            "text/plain": [
              "                                               title  \\\n",
              "0                                     Grandes irmãos   \n",
              "1  Haddad congela orçamento e suspende emendas de...   \n",
              "2  Proposta de reforma da Fifa tem a divulgação d...   \n",
              "3  Mercado incipiente, internet das coisas conect...   \n",
              "4  Mortes: Psicanalista, estudou o autismo em cri...   \n",
              "\n",
              "                                                text        date   category  \\\n",
              "0  RIO DE JANEIRO - O Brasil, cada vez menos famí...  2017-03-06    colunas   \n",
              "1  O prefeito de São Paulo, Fernando Haddad (PT),...  2016-08-10    colunas   \n",
              "2  A Fifa divulgou, nesta quinta (10), um relatór...  2015-10-09    esporte   \n",
              "3  Bueiros, coleiras, aparelhos hospitalares, ele...  2016-11-09    mercado   \n",
              "4  Toda vez que o grupo de amigos de Silvana Rabe...  2017-02-07  cotidiano   \n",
              "\n",
              "     subcategory                                               link  \n",
              "0      ruycastro  http://www1.folha.uol.com.br/colunas/ruycastro...  \n",
              "1  monicabergamo  http://www1.folha.uol.com.br/colunas/monicaber...  \n",
              "2            NaN  http://www1.folha.uol.com.br/esporte/2015/09/1...  \n",
              "3            NaN  http://www1.folha.uol.com.br/mercado/2016/09/1...  \n",
              "4            NaN  http://www1.folha.uol.com.br/cotidiano/2017/07...  "
            ],
            "text/html": [
              "\n",
              "  <div id=\"df-bed7df36-b0b0-4458-ab11-7da92e9c6225\">\n",
              "    <div class=\"colab-df-container\">\n",
              "      <div>\n",
              "<style scoped>\n",
              "    .dataframe tbody tr th:only-of-type {\n",
              "        vertical-align: middle;\n",
              "    }\n",
              "\n",
              "    .dataframe tbody tr th {\n",
              "        vertical-align: top;\n",
              "    }\n",
              "\n",
              "    .dataframe thead th {\n",
              "        text-align: right;\n",
              "    }\n",
              "</style>\n",
              "<table border=\"1\" class=\"dataframe\">\n",
              "  <thead>\n",
              "    <tr style=\"text-align: right;\">\n",
              "      <th></th>\n",
              "      <th>title</th>\n",
              "      <th>text</th>\n",
              "      <th>date</th>\n",
              "      <th>category</th>\n",
              "      <th>subcategory</th>\n",
              "      <th>link</th>\n",
              "    </tr>\n",
              "  </thead>\n",
              "  <tbody>\n",
              "    <tr>\n",
              "      <th>0</th>\n",
              "      <td>Grandes irmãos</td>\n",
              "      <td>RIO DE JANEIRO - O Brasil, cada vez menos famí...</td>\n",
              "      <td>2017-03-06</td>\n",
              "      <td>colunas</td>\n",
              "      <td>ruycastro</td>\n",
              "      <td>http://www1.folha.uol.com.br/colunas/ruycastro...</td>\n",
              "    </tr>\n",
              "    <tr>\n",
              "      <th>1</th>\n",
              "      <td>Haddad congela orçamento e suspende emendas de...</td>\n",
              "      <td>O prefeito de São Paulo, Fernando Haddad (PT),...</td>\n",
              "      <td>2016-08-10</td>\n",
              "      <td>colunas</td>\n",
              "      <td>monicabergamo</td>\n",
              "      <td>http://www1.folha.uol.com.br/colunas/monicaber...</td>\n",
              "    </tr>\n",
              "    <tr>\n",
              "      <th>2</th>\n",
              "      <td>Proposta de reforma da Fifa tem a divulgação d...</td>\n",
              "      <td>A Fifa divulgou, nesta quinta (10), um relatór...</td>\n",
              "      <td>2015-10-09</td>\n",
              "      <td>esporte</td>\n",
              "      <td>NaN</td>\n",
              "      <td>http://www1.folha.uol.com.br/esporte/2015/09/1...</td>\n",
              "    </tr>\n",
              "    <tr>\n",
              "      <th>3</th>\n",
              "      <td>Mercado incipiente, internet das coisas conect...</td>\n",
              "      <td>Bueiros, coleiras, aparelhos hospitalares, ele...</td>\n",
              "      <td>2016-11-09</td>\n",
              "      <td>mercado</td>\n",
              "      <td>NaN</td>\n",
              "      <td>http://www1.folha.uol.com.br/mercado/2016/09/1...</td>\n",
              "    </tr>\n",
              "    <tr>\n",
              "      <th>4</th>\n",
              "      <td>Mortes: Psicanalista, estudou o autismo em cri...</td>\n",
              "      <td>Toda vez que o grupo de amigos de Silvana Rabe...</td>\n",
              "      <td>2017-02-07</td>\n",
              "      <td>cotidiano</td>\n",
              "      <td>NaN</td>\n",
              "      <td>http://www1.folha.uol.com.br/cotidiano/2017/07...</td>\n",
              "    </tr>\n",
              "  </tbody>\n",
              "</table>\n",
              "</div>\n",
              "      <button class=\"colab-df-convert\" onclick=\"convertToInteractive('df-bed7df36-b0b0-4458-ab11-7da92e9c6225')\"\n",
              "              title=\"Convert this dataframe to an interactive table.\"\n",
              "              style=\"display:none;\">\n",
              "        \n",
              "  <svg xmlns=\"http://www.w3.org/2000/svg\" height=\"24px\"viewBox=\"0 0 24 24\"\n",
              "       width=\"24px\">\n",
              "    <path d=\"M0 0h24v24H0V0z\" fill=\"none\"/>\n",
              "    <path d=\"M18.56 5.44l.94 2.06.94-2.06 2.06-.94-2.06-.94-.94-2.06-.94 2.06-2.06.94zm-11 1L8.5 8.5l.94-2.06 2.06-.94-2.06-.94L8.5 2.5l-.94 2.06-2.06.94zm10 10l.94 2.06.94-2.06 2.06-.94-2.06-.94-.94-2.06-.94 2.06-2.06.94z\"/><path d=\"M17.41 7.96l-1.37-1.37c-.4-.4-.92-.59-1.43-.59-.52 0-1.04.2-1.43.59L10.3 9.45l-7.72 7.72c-.78.78-.78 2.05 0 2.83L4 21.41c.39.39.9.59 1.41.59.51 0 1.02-.2 1.41-.59l7.78-7.78 2.81-2.81c.8-.78.8-2.07 0-2.86zM5.41 20L4 18.59l7.72-7.72 1.47 1.35L5.41 20z\"/>\n",
              "  </svg>\n",
              "      </button>\n",
              "      \n",
              "  <style>\n",
              "    .colab-df-container {\n",
              "      display:flex;\n",
              "      flex-wrap:wrap;\n",
              "      gap: 12px;\n",
              "    }\n",
              "\n",
              "    .colab-df-convert {\n",
              "      background-color: #E8F0FE;\n",
              "      border: none;\n",
              "      border-radius: 50%;\n",
              "      cursor: pointer;\n",
              "      display: none;\n",
              "      fill: #1967D2;\n",
              "      height: 32px;\n",
              "      padding: 0 0 0 0;\n",
              "      width: 32px;\n",
              "    }\n",
              "\n",
              "    .colab-df-convert:hover {\n",
              "      background-color: #E2EBFA;\n",
              "      box-shadow: 0px 1px 2px rgba(60, 64, 67, 0.3), 0px 1px 3px 1px rgba(60, 64, 67, 0.15);\n",
              "      fill: #174EA6;\n",
              "    }\n",
              "\n",
              "    [theme=dark] .colab-df-convert {\n",
              "      background-color: #3B4455;\n",
              "      fill: #D2E3FC;\n",
              "    }\n",
              "\n",
              "    [theme=dark] .colab-df-convert:hover {\n",
              "      background-color: #434B5C;\n",
              "      box-shadow: 0px 1px 3px 1px rgba(0, 0, 0, 0.15);\n",
              "      filter: drop-shadow(0px 1px 2px rgba(0, 0, 0, 0.3));\n",
              "      fill: #FFFFFF;\n",
              "    }\n",
              "  </style>\n",
              "\n",
              "      <script>\n",
              "        const buttonEl =\n",
              "          document.querySelector('#df-bed7df36-b0b0-4458-ab11-7da92e9c6225 button.colab-df-convert');\n",
              "        buttonEl.style.display =\n",
              "          google.colab.kernel.accessAllowed ? 'block' : 'none';\n",
              "\n",
              "        async function convertToInteractive(key) {\n",
              "          const element = document.querySelector('#df-bed7df36-b0b0-4458-ab11-7da92e9c6225');\n",
              "          const dataTable =\n",
              "            await google.colab.kernel.invokeFunction('convertToInteractive',\n",
              "                                                     [key], {});\n",
              "          if (!dataTable) return;\n",
              "\n",
              "          const docLinkHtml = 'Like what you see? Visit the ' +\n",
              "            '<a target=\"_blank\" href=https://colab.research.google.com/notebooks/data_table.ipynb>data table notebook</a>'\n",
              "            + ' to learn more about interactive tables.';\n",
              "          element.innerHTML = '';\n",
              "          dataTable['output_type'] = 'display_data';\n",
              "          await google.colab.output.renderOutput(dataTable, element);\n",
              "          const docLink = document.createElement('div');\n",
              "          docLink.innerHTML = docLinkHtml;\n",
              "          element.appendChild(docLink);\n",
              "        }\n",
              "      </script>\n",
              "    </div>\n",
              "  </div>\n",
              "  "
            ]
          },
          "metadata": {},
          "execution_count": 4
        }
      ]
    },
    {
      "cell_type": "code",
      "source": [
        "dados_treino.iloc[0].title"
      ],
      "metadata": {
        "colab": {
          "base_uri": "https://localhost:8080/",
          "height": 36
        },
        "id": "NuQVihzhOKAA",
        "outputId": "87689fa5-586e-4c6d-f611-cbc137c307f8"
      },
      "execution_count": null,
      "outputs": [
        {
          "output_type": "execute_result",
          "data": {
            "text/plain": [
              "'Após polêmica, Marine Le Pen diz que abomina negacionistas do Holocausto'"
            ],
            "application/vnd.google.colaboratory.intrinsic+json": {
              "type": "string"
            }
          },
          "metadata": {},
          "execution_count": 5
        }
      ]
    },
    {
      "cell_type": "code",
      "source": [
        "from sklearn.feature_extraction.text import CountVectorizer\n",
        "\n",
        "texto = [\n",
        "    \"tenha um bom dia\",\n",
        "    \"tenha um péssimo dia\",\n",
        "    \"tenha um ótimo dia\",\n",
        "    \"tenha um dia ruim\"\n",
        "]\n",
        "\n",
        "vetorizador = CountVectorizer()\n",
        "vetorizador.fit(texto)"
      ],
      "metadata": {
        "colab": {
          "base_uri": "https://localhost:8080/"
        },
        "id": "Tz1VUL5HPTsI",
        "outputId": "9845fd5c-c50c-4f4f-f717-f76f1ff3d334"
      },
      "execution_count": null,
      "outputs": [
        {
          "output_type": "execute_result",
          "data": {
            "text/plain": [
              "CountVectorizer()"
            ]
          },
          "metadata": {},
          "execution_count": 6
        }
      ]
    },
    {
      "cell_type": "code",
      "source": [
        "print(vetorizador.vocabulary_)"
      ],
      "metadata": {
        "colab": {
          "base_uri": "https://localhost:8080/"
        },
        "id": "8sxWZpkLREeE",
        "outputId": "666d270d-88a1-4e6c-d91b-b07d2726c32c"
      },
      "execution_count": null,
      "outputs": [
        {
          "output_type": "stream",
          "name": "stdout",
          "text": [
            "{'tenha': 4, 'um': 5, 'bom': 0, 'dia': 1, 'péssimo': 2, 'ótimo': 6, 'ruim': 3}\n"
          ]
        }
      ]
    },
    {
      "cell_type": "code",
      "source": [
        "vetor_bom = vetorizador.transform([\"bom\"])\n",
        "\n",
        "print(vetor_bom.toarray())"
      ],
      "metadata": {
        "colab": {
          "base_uri": "https://localhost:8080/"
        },
        "id": "HLfLhEx_RTeL",
        "outputId": "dd49907f-90fa-42c1-f13e-d2ec7a2d0314"
      },
      "execution_count": null,
      "outputs": [
        {
          "output_type": "stream",
          "name": "stdout",
          "text": [
            "[[1 0 0 0 0 0 0]]\n"
          ]
        }
      ]
    },
    {
      "cell_type": "code",
      "source": [
        "vetor_bom = vetorizador.transform([\"ótimo\"])\n",
        "\n",
        "print(vetor_bom.toarray())"
      ],
      "metadata": {
        "colab": {
          "base_uri": "https://localhost:8080/"
        },
        "id": "XOkRwV-9Ra4J",
        "outputId": "343032e6-470a-44e7-d1fb-9a6993947a7e"
      },
      "execution_count": null,
      "outputs": [
        {
          "output_type": "stream",
          "name": "stdout",
          "text": [
            "[[0 0 0 0 0 0 1]]\n"
          ]
        }
      ]
    },
    {
      "cell_type": "markdown",
      "source": [
        "Word2vec"
      ],
      "metadata": {
        "id": "HVw83jAUiYmn"
      }
    },
    {
      "cell_type": "code",
      "source": [
        "from gensim.models import KeyedVectors\n",
        "\n",
        "modelo = KeyedVectors.load_word2vec_format('/content/drive/MyDrive/Word2Vec/cbow_s300.txt')"
      ],
      "metadata": {
        "id": "SVhND9Zsx-By"
      },
      "execution_count": null,
      "outputs": []
    },
    {
      "cell_type": "code",
      "source": [
        "modelo.most_similar('espanha')"
      ],
      "metadata": {
        "colab": {
          "base_uri": "https://localhost:8080/"
        },
        "id": "mGYaCoN1zESp",
        "outputId": "a17759ac-6ad0-4f4c-efd1-4e5bfccbba76"
      },
      "execution_count": null,
      "outputs": [
        {
          "output_type": "execute_result",
          "data": {
            "text/plain": [
              "[('frança', 0.7710400819778442),\n",
              " ('itália', 0.7417077422142029),\n",
              " ('dinamarca', 0.7252728939056396),\n",
              " ('grécia', 0.7176815271377563),\n",
              " ('inglaterra', 0.7163249254226685),\n",
              " ('holanda', 0.7146565914154053),\n",
              " ('bélgica', 0.6959753632545471),\n",
              " ('es-panha', 0.6957015991210938),\n",
              " ('grã-bretanha', 0.6953411102294922),\n",
              " ('suécia', 0.6767714023590088)]"
            ]
          },
          "metadata": {},
          "execution_count": 11
        }
      ]
    },
    {
      "cell_type": "code",
      "source": [
        "modelo.most_similar(positive=[\"brasil\", \"argentina\"])"
      ],
      "metadata": {
        "colab": {
          "base_uri": "https://localhost:8080/"
        },
        "id": "ws8nnwQm2BsH",
        "outputId": "e85ee0e3-95f2-44ae-fd77-10ebe0aeb3d2"
      },
      "execution_count": null,
      "outputs": [
        {
          "output_type": "execute_result",
          "data": {
            "text/plain": [
              "[('chile', 0.6781662702560425),\n",
              " ('peru', 0.6348033547401428),\n",
              " ('venezuela', 0.6273865103721619),\n",
              " ('equador', 0.6037014722824097),\n",
              " ('bolívia', 0.6017140746116638),\n",
              " ('haiti', 0.5993807315826416),\n",
              " ('méxico', 0.5962306261062622),\n",
              " ('paraguai', 0.5957703590393066),\n",
              " ('uruguai', 0.5903672575950623),\n",
              " ('japão', 0.5893509984016418)]"
            ]
          },
          "metadata": {},
          "execution_count": 12
        }
      ]
    },
    {
      "cell_type": "code",
      "source": [
        "#nuvens -> nuvem : estrelas -> estrela\n",
        "#nuvens + estrela - nuvem = estrelas\n",
        "\n",
        "modelo.most_similar(positive=[\"nuvens\", \"estrela\"], negative=[\"nuvem\"])"
      ],
      "metadata": {
        "colab": {
          "base_uri": "https://localhost:8080/"
        },
        "id": "xhtt2PCJ3L67",
        "outputId": "bc46493b-c79c-4961-d4c3-3626158e1c7c"
      },
      "execution_count": null,
      "outputs": [
        {
          "output_type": "execute_result",
          "data": {
            "text/plain": [
              "[('estrelas', 0.5497429966926575),\n",
              " ('plêiades', 0.379197895526886),\n",
              " ('colinas', 0.3746805191040039),\n",
              " ('trovoadas', 0.373703271150589),\n",
              " ('sombras', 0.3734194040298462),\n",
              " ('pombas', 0.3726757764816284),\n",
              " ('corredoras', 0.3640727698802948),\n",
              " ('cigarras', 0.36065393686294556),\n",
              " ('galáxias', 0.35754913091659546),\n",
              " ('luas', 0.3575345277786255)]"
            ]
          },
          "metadata": {},
          "execution_count": 13
        }
      ]
    },
    {
      "cell_type": "code",
      "source": [
        "modelo.most_similar(positive=[\"medico\", \"mulher\"], negative=[\"homem\"])"
      ],
      "metadata": {
        "colab": {
          "base_uri": "https://localhost:8080/"
        },
        "id": "6sFwMbUL3mv1",
        "outputId": "a2ad4227-b8c1-4619-a1b0-770bb40a27be"
      },
      "execution_count": null,
      "outputs": [
        {
          "output_type": "execute_result",
          "data": {
            "text/plain": [
              "[('enfermeira', 0.5567789673805237),\n",
              " ('esposa', 0.540894627571106),\n",
              " ('mãe', 0.5147395730018616),\n",
              " ('filha', 0.5052310824394226),\n",
              " ('namorada', 0.49705660343170166),\n",
              " ('filhinha', 0.49672722816467285),\n",
              " ('irmã', 0.4958304166793823),\n",
              " ('parenta', 0.4849744439125061),\n",
              " ('sobrinha', 0.4843062460422516),\n",
              " ('babá', 0.48186036944389343)]"
            ]
          },
          "metadata": {},
          "execution_count": 14
        }
      ]
    },
    {
      "cell_type": "code",
      "source": [
        "modelo.most_similar(positive=[\"professor\", \"mulher\"], negative=[\"homem\"])"
      ],
      "metadata": {
        "colab": {
          "base_uri": "https://localhost:8080/"
        },
        "id": "fzQwfM5j31Vj",
        "outputId": "a79b8352-1355-4a51-9351-6de4ffb63871"
      },
      "execution_count": null,
      "outputs": [
        {
          "output_type": "execute_result",
          "data": {
            "text/plain": [
              "[('professora', 0.6192208528518677),\n",
              " ('aluna', 0.5449554324150085),\n",
              " ('esposa', 0.4978231191635132),\n",
              " ('ex-aluna', 0.4884248375892639),\n",
              " ('namorada', 0.4737858772277832),\n",
              " ('enfermeira', 0.4728144109249115),\n",
              " ('filha', 0.467373788356781),\n",
              " ('irmã', 0.45845913887023926),\n",
              " ('ex-namorada', 0.45824766159057617),\n",
              " ('ex-professora', 0.4510470926761627)]"
            ]
          },
          "metadata": {},
          "execution_count": 15
        }
      ]
    },
    {
      "cell_type": "markdown",
      "source": [
        "# Vetorização de textos"
      ],
      "metadata": {
        "id": "DZgF4bI34ob4"
      }
    },
    {
      "cell_type": "code",
      "source": [
        "dados_treino.title.loc[12]"
      ],
      "metadata": {
        "colab": {
          "base_uri": "https://localhost:8080/",
          "height": 36
        },
        "id": "1djyreZJ4spQ",
        "outputId": "8bf8436e-4715-484a-9a6b-529adec3b0d8"
      },
      "execution_count": null,
      "outputs": [
        {
          "output_type": "execute_result",
          "data": {
            "text/plain": [
              "\"Daniel Craig será stormtrooper em novo 'Star Wars', diz ator\""
            ],
            "application/vnd.google.colaboratory.intrinsic+json": {
              "type": "string"
            }
          },
          "metadata": {},
          "execution_count": 16
        }
      ]
    },
    {
      "cell_type": "code",
      "source": [
        "import nltk\n",
        "nltk.download('punkt')\n",
        "import string\n",
        "\n",
        "def tokenizador(texto):\n",
        "  texto = texto.lower()\n",
        "  lista_alfanumerico = []\n",
        "\n",
        "  for token_valido in nltk.word_tokenize(texto):\n",
        "    if token_valido in string.punctuation: continue\n",
        "    lista_alfanumerico.append(token_valido)\n",
        "\n",
        "  return lista_alfanumerico\n",
        "\n",
        "tokenizador(\"Texto Exemplo, 1234!\")"
      ],
      "metadata": {
        "colab": {
          "base_uri": "https://localhost:8080/"
        },
        "id": "GmP9XcbX5CPd",
        "outputId": "3c2994ac-65e7-4abb-ca54-1ce4d5a78c2b"
      },
      "execution_count": null,
      "outputs": [
        {
          "output_type": "stream",
          "name": "stderr",
          "text": [
            "[nltk_data] Downloading package punkt to /root/nltk_data...\n",
            "[nltk_data]   Unzipping tokenizers/punkt.zip.\n"
          ]
        },
        {
          "output_type": "execute_result",
          "data": {
            "text/plain": [
              "['texto', 'exemplo', '1234']"
            ]
          },
          "metadata": {},
          "execution_count": 17
        }
      ]
    },
    {
      "cell_type": "code",
      "source": [
        "import numpy as np\n",
        "def combinacao_vetores_por_soma(palavras_numeros):\n",
        "  vetor_resultante = np.zeros(300)\n",
        "\n",
        "  for pn in palavras_numeros:\n",
        "    try:\n",
        "      vetor_resultante += modelo.get_vector(pn)\n",
        "    except KeyError:\n",
        "      if pn.isnumeric():\n",
        "        pn = \"0\"*len(pn)\n",
        "        vetor_resultante += modelo.get_vector(pn)\n",
        "      else:\n",
        "        vetor_resultante += modelo.get_vector(\"unknown\")\n",
        "  return vetor_resultante"
      ],
      "metadata": {
        "id": "fXNhZpUn7i5T"
      },
      "execution_count": null,
      "outputs": []
    },
    {
      "cell_type": "code",
      "source": [
        "palavras_numeros = tokenizador(\"Frase Exemplo\")\n",
        "vetor_resultante = combinacao_vetores_por_soma(palavras_numeros)\n",
        "print(len(vetor_resultante))\n",
        "print(vetor_resultante)"
      ],
      "metadata": {
        "colab": {
          "base_uri": "https://localhost:8080/"
        },
        "id": "ZHQd-FWA8YhP",
        "outputId": "d6359088-bc7f-4419-eca6-c0a97a01ca0f"
      },
      "execution_count": null,
      "outputs": [
        {
          "output_type": "stream",
          "name": "stdout",
          "text": [
            "300\n",
            "[ 3.44038010e-01  1.03551999e-01  3.17570008e-02  6.34731025e-01\n",
            " -1.85134992e-01 -2.38715993e-01  3.59508976e-01  4.32909995e-01\n",
            "  1.54239982e-02  1.48930103e-02  2.43712999e-01  3.45398001e-01\n",
            "  2.78683990e-01  1.98045000e-01 -8.50249901e-02  8.22790004e-02\n",
            " -5.49331971e-01  6.81780018e-02  2.45528005e-01  4.25998867e-03\n",
            " -7.78042972e-01 -4.47360016e-02  2.92254999e-01  2.27771005e-01\n",
            " -2.76682004e-01 -4.69911009e-01 -2.59007014e-01 -1.84272999e-01\n",
            " -3.80580995e-01 -2.76219994e-02 -3.47883997e-01 -2.00868002e-01\n",
            " -3.48509960e-02 -1.94766002e-01 -3.44370045e-02  7.82510005e-02\n",
            "  1.08333997e-01  4.40776005e-01  2.93099880e-03 -3.47897008e-01\n",
            " -1.93056008e-01  7.75275022e-01  3.41959998e-01  3.41940010e-01\n",
            " -3.76720000e-02  6.53095990e-01  2.06599006e-01  1.27740998e-01\n",
            " -7.59760011e-02 -1.07328996e-01 -2.74974003e-01 -3.20950039e-02\n",
            "  3.74537991e-01 -3.37490030e-02  5.57010025e-02 -7.78579991e-02\n",
            "  1.82776999e-01  9.75370035e-02 -6.39137000e-01  2.35388000e-01\n",
            "  1.06006999e-01  2.20208995e-01  2.74503998e-01 -3.28404002e-01\n",
            "  4.71262004e-01  1.91254996e-01 -2.23839998e-01 -2.92992003e-01\n",
            "  1.18450001e-01  4.27780002e-02  1.62080996e-01  1.17165007e-01\n",
            " -2.43429989e-02  1.25652000e-01  9.53199714e-03 -5.05270008e-02\n",
            " -1.02862002e-01 -1.10471010e-01 -4.77979998e-02  1.07999966e-02\n",
            " -7.34139979e-02 -2.18580994e-01 -3.08524005e-01 -2.76615990e-01\n",
            " -1.54650002e-02 -3.85268009e-01 -4.97238994e-01 -8.43319986e-02\n",
            " -3.76190096e-02 -1.20533995e-01 -8.57460052e-02  7.69350007e-02\n",
            " -1.16651997e-01  1.18377998e-01 -6.17759973e-02  1.09552001e-01\n",
            " -2.55018003e-01  1.11869996e-01  1.20780003e-01 -9.56710055e-02\n",
            "  3.22774986e-01  6.08520012e-02 -1.65248003e-01  1.41760111e-02\n",
            " -4.33640033e-02  1.98277995e-01  2.59674996e-01 -3.60700488e-03\n",
            "  1.51297003e-01 -1.42034002e-01 -4.76550013e-02  7.77379945e-02\n",
            "  5.12669981e-01 -1.35899006e-01  5.56597009e-01  1.72339998e-01\n",
            " -5.13251007e-01 -3.32824010e-01  3.78279999e-01 -9.70951974e-01\n",
            " -1.71057999e-01 -7.90540008e-02  2.35264003e-01 -2.53274001e-01\n",
            "  8.26430023e-02  1.91487998e-01 -2.21024007e-01  1.42289998e-01\n",
            " -6.05850071e-02 -8.49739909e-02  1.21552005e-01 -1.37122001e-01\n",
            "  2.69585006e-01  2.65599936e-02  3.96118999e-01 -4.41889018e-01\n",
            "  1.76999718e-04  4.89920005e-02  4.13592003e-01 -2.50480007e-02\n",
            " -1.45011000e-01  4.04287992e-01  5.64001501e-04  3.85366011e-01\n",
            "  1.13066994e-01 -1.12073004e-01 -2.44383000e-01  2.38931002e-01\n",
            "  3.07339005e-01 -2.11699001e-01  8.37949961e-02  3.90545011e-01\n",
            " -9.95979980e-02 -1.42470002e-02 -1.00166004e-01 -1.87542006e-01\n",
            "  2.92399898e-03 -1.30589992e-01  2.84644987e-01  4.08964008e-01\n",
            " -3.73308010e-01  3.33155010e-01  1.24647999e-01  2.60810003e-01\n",
            "  5.83340079e-02  8.67589992e-02 -1.26886994e-01 -1.16003998e-01\n",
            " -1.51411999e-01  9.50370012e-02 -3.35611001e-01 -2.89140046e-02\n",
            " -7.96660034e-02 -1.17327997e-01  1.41530037e-02  2.72710025e-02\n",
            "  5.39798990e-01  1.04804002e-01 -3.57221991e-01  3.26679945e-02\n",
            " -3.76279950e-02  4.22100006e-02 -1.76966004e-01 -6.08401000e-03\n",
            " -2.36050986e-01 -3.77739966e-02  5.20175993e-01 -2.73365006e-01\n",
            " -3.02854009e-01  5.44323005e-01 -6.22879937e-02 -4.47459966e-02\n",
            " -1.00129992e-01  2.18241006e-01 -1.44074995e-01  3.26041009e-01\n",
            "  2.13848997e-01 -8.80159959e-02  5.50681993e-01 -3.30743998e-01\n",
            "  1.05679989e-01 -6.73709959e-02  6.50030002e-02  2.29680998e-01\n",
            " -2.42631000e-01 -1.82380995e-01 -2.77519995e-01 -1.99672006e-01\n",
            "  1.55964002e-01  4.46357980e-01  1.90710999e-01  2.90935002e-01\n",
            "  1.58893000e-01  1.02523002e-01  1.76596005e-01 -6.53711975e-01\n",
            " -3.42491999e-01  9.41960011e-02 -4.28103998e-01  3.90922010e-01\n",
            " -2.65152998e-01 -2.59460062e-02  1.23412998e-01  2.71240000e-01\n",
            "  2.53189005e-01 -1.71347998e-01 -3.99352986e-01  6.86289966e-02\n",
            "  2.03720003e-01  1.04171008e-01  2.30788987e-01  2.15289995e-01\n",
            "  1.21904999e-01  2.16309004e-01 -1.04796994e-01  9.62089961e-02\n",
            " -5.10450013e-01  4.79919016e-01 -6.42500818e-03 -1.37775999e-01\n",
            "  2.50938997e-01 -2.73846000e-01  4.43117999e-01  2.22654994e-01\n",
            "  3.93199995e-02 -1.41688000e-01 -2.79894993e-01 -1.73262995e-01\n",
            "  5.07899933e-03 -3.80504012e-01 -1.20616003e-01  1.47693995e-01\n",
            "  4.20690998e-01  4.63921010e-01 -1.80169998e-01  2.79077992e-01\n",
            " -1.19243000e-01 -6.41280040e-02  2.86896989e-01 -4.94202010e-01\n",
            " -1.63355000e-01 -9.74820070e-02  1.11474007e-01 -2.48417996e-01\n",
            "  1.97399780e-03 -8.10669988e-01  6.37889990e-02  2.28998996e-01\n",
            "  1.58802994e-01  1.52811998e-01  3.05518001e-01 -2.90868014e-01\n",
            "  2.12209999e-01 -4.73753005e-01  4.54852000e-01  1.26086004e-01\n",
            "  2.04495005e-01  1.50690997e-01  3.66973996e-01  5.84829003e-01\n",
            "  2.91951001e-01  5.48748001e-01  2.57686004e-01  1.73737988e-01\n",
            " -9.34030116e-02 -2.29480006e-02  5.94021980e-01 -3.75824988e-01\n",
            " -5.80473006e-01  1.68651000e-01  3.56988005e-01  4.16693008e-01\n",
            " -1.17043003e-01 -6.14526972e-01  7.43600726e-03  3.45693007e-01\n",
            "  3.99600118e-02  1.32233009e-01 -2.72039995e-02  4.91292000e-01]\n"
          ]
        }
      ]
    },
    {
      "cell_type": "code",
      "source": [
        "def matriz_vetores(textos):\n",
        "  x = len(textos)\n",
        "  y = 300\n",
        "  matriz = np.zeros((x,y))\n",
        "\n",
        "  for i in range(x):\n",
        "    palavras_numeros = tokenizador(textos.iloc[i])\n",
        "    matriz[i] = combinacao_vetores_por_soma(palavras_numeros)\n",
        "\n",
        "  return matriz\n",
        "\n",
        "\n",
        "matriz_vetores_treino = matriz_vetores(dados_treino.title)\n",
        "matriz_vetores_teste = matriz_vetores(dados_teste.title)\n",
        "\n",
        "print(matriz_vetores_treino.shape)\n",
        "print(matriz_vetores_teste.shape)"
      ],
      "metadata": {
        "colab": {
          "base_uri": "https://localhost:8080/"
        },
        "id": "nqPM4-nlBabg",
        "outputId": "a331a763-51c4-458e-ceef-769290b3e3d3"
      },
      "execution_count": null,
      "outputs": [
        {
          "output_type": "stream",
          "name": "stdout",
          "text": [
            "(90000, 300)\n",
            "(20513, 300)\n"
          ]
        }
      ]
    },
    {
      "cell_type": "code",
      "source": [
        "from sklearn.linear_model import LogisticRegression\n",
        "\n",
        "LR = LogisticRegression(max_iter = 200)\n",
        "\n",
        "LR.fit(matriz_vetores_treino, dados_treino.category)"
      ],
      "metadata": {
        "colab": {
          "base_uri": "https://localhost:8080/"
        },
        "id": "jd5Zm3JtDciL",
        "outputId": "98a3e266-aea0-4a6d-c0bb-2f4571843a30"
      },
      "execution_count": null,
      "outputs": [
        {
          "output_type": "execute_result",
          "data": {
            "text/plain": [
              "LogisticRegression(max_iter=200)"
            ]
          },
          "metadata": {},
          "execution_count": 21
        }
      ]
    },
    {
      "cell_type": "code",
      "source": [
        "LR.score(matriz_vetores_teste, dados_teste.category)"
      ],
      "metadata": {
        "colab": {
          "base_uri": "https://localhost:8080/"
        },
        "id": "WX_1HBuFE0Uw",
        "outputId": "4349bbe5-5f44-40c7-ef6d-f556a08899cb"
      },
      "execution_count": null,
      "outputs": [
        {
          "output_type": "execute_result",
          "data": {
            "text/plain": [
              "0.7957880368546775"
            ]
          },
          "metadata": {},
          "execution_count": 22
        }
      ]
    },
    {
      "cell_type": "code",
      "source": [
        "label_prevista = LR.predict(matriz_vetores_teste)"
      ],
      "metadata": {
        "id": "jxsA1T_FGAEg"
      },
      "execution_count": null,
      "outputs": []
    },
    {
      "cell_type": "code",
      "source": [
        "from sklearn.metrics import classification_report\n",
        "\n",
        "print(classification_report(dados_teste.category,label_prevista))"
      ],
      "metadata": {
        "colab": {
          "base_uri": "https://localhost:8080/"
        },
        "id": "NWlo7H0ZFm7N",
        "outputId": "d46a3923-ea4e-4a9f-f357-77a19250e5dd"
      },
      "execution_count": null,
      "outputs": [
        {
          "output_type": "stream",
          "name": "stdout",
          "text": [
            "              precision    recall  f1-score   support\n",
            "\n",
            "     colunas       0.86      0.71      0.78      6103\n",
            "   cotidiano       0.61      0.79      0.69      1698\n",
            "     esporte       0.92      0.88      0.90      4663\n",
            "   ilustrada       0.13      0.88      0.23       131\n",
            "     mercado       0.84      0.79      0.81      5867\n",
            "       mundo       0.74      0.86      0.79      2051\n",
            "\n",
            "    accuracy                           0.80     20513\n",
            "   macro avg       0.68      0.82      0.70     20513\n",
            "weighted avg       0.83      0.80      0.81     20513\n",
            "\n"
          ]
        }
      ]
    },
    {
      "cell_type": "code",
      "source": [
        "from sklearn.dummy import DummyClassifier\n",
        "\n",
        "DC = DummyClassifier(strategy='stratified')\n",
        "\n",
        "DC.fit(matriz_vetores_treino, dados_treino.category)\n",
        "\n",
        "label_prevista_dc = DC.predict(matriz_vetores_teste)\n",
        "print(classification_report(dados_teste.category, label_prevista_dc))"
      ],
      "metadata": {
        "colab": {
          "base_uri": "https://localhost:8080/"
        },
        "id": "ndFDKfZKKRn6",
        "outputId": "f08aaa36-b930-4871-b20c-675c4c0cc057"
      },
      "execution_count": null,
      "outputs": [
        {
          "output_type": "stream",
          "name": "stdout",
          "text": [
            "              precision    recall  f1-score   support\n",
            "\n",
            "     colunas       0.29      0.16      0.21      6103\n",
            "   cotidiano       0.09      0.18      0.12      1698\n",
            "     esporte       0.23      0.17      0.19      4663\n",
            "   ilustrada       0.01      0.21      0.02       131\n",
            "     mercado       0.29      0.17      0.21      5867\n",
            "       mundo       0.11      0.18      0.14      2051\n",
            "\n",
            "    accuracy                           0.17     20513\n",
            "   macro avg       0.17      0.18      0.15     20513\n",
            "weighted avg       0.24      0.17      0.19     20513\n",
            "\n"
          ]
        }
      ]
    },
    {
      "cell_type": "code",
      "source": [
        "LRM = LogisticRegression(max_iter=150, multi_class='multinomial')\n",
        "\n",
        "LRM.fit(matriz_vetores_treino, dados_treino.category)\n",
        "\n",
        "label_prevista_lrm = LRM.predict(matriz_vetores_teste)\n",
        "print(classification_report(dados_teste.category, label_prevista_lrm))"
      ],
      "metadata": {
        "colab": {
          "base_uri": "https://localhost:8080/"
        },
        "id": "MHXA1-pQpfO5",
        "outputId": "0de10ec9-0d94-4f06-a147-7d605b3ab9c7"
      },
      "execution_count": null,
      "outputs": [
        {
          "output_type": "stream",
          "name": "stdout",
          "text": [
            "              precision    recall  f1-score   support\n",
            "\n",
            "     colunas       0.86      0.71      0.78      6103\n",
            "   cotidiano       0.61      0.79      0.69      1698\n",
            "     esporte       0.92      0.88      0.90      4663\n",
            "   ilustrada       0.13      0.88      0.23       131\n",
            "     mercado       0.84      0.79      0.81      5867\n",
            "       mundo       0.74      0.86      0.79      2051\n",
            "\n",
            "    accuracy                           0.80     20513\n",
            "   macro avg       0.68      0.82      0.70     20513\n",
            "weighted avg       0.83      0.80      0.81     20513\n",
            "\n"
          ]
        }
      ]
    },
    {
      "cell_type": "code",
      "source": [
        "prob_prevista_lrm = LRM.predict_proba(matriz_vetores_teste)"
      ],
      "metadata": {
        "id": "Qfbe8dCLqeMV"
      },
      "execution_count": null,
      "outputs": []
    },
    {
      "cell_type": "code",
      "source": [
        "prob_prevista_lrm[0]"
      ],
      "metadata": {
        "colab": {
          "base_uri": "https://localhost:8080/"
        },
        "id": "6_nQJorLrlVf",
        "outputId": "0bcfd8b9-ae0d-4af7-f5d9-ad9ba0ab52ff"
      },
      "execution_count": null,
      "outputs": [
        {
          "output_type": "execute_result",
          "data": {
            "text/plain": [
              "array([0.91551372, 0.0210651 , 0.00483641, 0.0213543 , 0.02786393,\n",
              "       0.00936653])"
            ]
          },
          "metadata": {},
          "execution_count": 35
        }
      ]
    },
    {
      "cell_type": "code",
      "source": [
        "from sklearn.ensemble import RandomForestClassifier\n",
        "\n",
        "RFC = RandomForestClassifier()\n",
        "RFC.fit(matriz_vetores_treino, dados_treino.category)\n",
        "label_prevista_rfc = RFC.predict(matriz_vetores_teste)\n",
        "print(classification_report(dados_teste.category, label_prevista_rfc))"
      ],
      "metadata": {
        "colab": {
          "base_uri": "https://localhost:8080/"
        },
        "id": "QpHoJq6QM3eR",
        "outputId": "9a53120f-3efe-40a0-8cac-1489348b6918"
      },
      "execution_count": null,
      "outputs": [
        {
          "output_type": "stream",
          "name": "stdout",
          "text": [
            "              precision    recall  f1-score   support\n",
            "\n",
            "     colunas       0.90      0.63      0.74      6103\n",
            "   cotidiano       0.53      0.73      0.61      1698\n",
            "     esporte       0.91      0.78      0.84      4663\n",
            "   ilustrada       0.09      0.87      0.16       131\n",
            "     mercado       0.77      0.78      0.78      5867\n",
            "       mundo       0.61      0.80      0.69      2051\n",
            "\n",
            "    accuracy                           0.73     20513\n",
            "   macro avg       0.63      0.76      0.64     20513\n",
            "weighted avg       0.80      0.73      0.75     20513\n",
            "\n"
          ]
        }
      ]
    },
    {
      "cell_type": "markdown",
      "source": [
        "SKIP-GRAM"
      ],
      "metadata": {
        "id": "p7zQkPo3lVBC"
      }
    },
    {
      "cell_type": "code",
      "source": [
        "modelo_SKIP = KeyedVectors.load_word2vec_format('/content/drive/MyDrive/Word2Vec/skip_s300.txt')"
      ],
      "metadata": {
        "id": "doV2hqA9lUff"
      },
      "execution_count": null,
      "outputs": []
    },
    {
      "cell_type": "code",
      "source": [
        "def combinacao_vetores_por_soma_skip(palavras_numeros):\n",
        "  vetor_resultante = np.zeros(300)\n",
        "\n",
        "  for pn in palavras_numeros:\n",
        "    try:\n",
        "      vetor_resultante += modelo_SKIP.get_vector(pn)\n",
        "    except KeyError:\n",
        "      if pn.isnumeric():\n",
        "        pn = \"0\"*len(pn)\n",
        "        vetor_resultante += modelo_SKIP.get_vector(pn)\n",
        "      else:\n",
        "        vetor_resultante += modelo_SKIP.get_vector(\"unknown\")\n",
        "  return vetor_resultante"
      ],
      "metadata": {
        "id": "pQPHC7sBr-CN"
      },
      "execution_count": null,
      "outputs": []
    },
    {
      "cell_type": "code",
      "source": [
        "def matriz_vetores_skip(textos):\n",
        "  x = len(textos)\n",
        "  y = 300\n",
        "  matriz = np.zeros((x,y))\n",
        "\n",
        "  for i in range(x):\n",
        "    palavras_numeros = tokenizador(textos.iloc[i])\n",
        "    matriz[i] = combinacao_vetores_por_soma_skip(palavras_numeros)\n",
        "\n",
        "  return matriz\n"
      ],
      "metadata": {
        "id": "39zUj9mKsMo6"
      },
      "execution_count": null,
      "outputs": []
    },
    {
      "cell_type": "code",
      "source": [
        "matriz_vetores_treino_skip = matriz_vetores_skip(dados_treino.title)\n",
        "matriz_vetores_teste_skip = matriz_vetores_skip(dados_teste.title)"
      ],
      "metadata": {
        "id": "O7TkBadzuOlZ"
      },
      "execution_count": null,
      "outputs": []
    },
    {
      "cell_type": "code",
      "source": [
        "LR_skip = LogisticRegression(max_iter = 250)\n",
        "\n",
        "LR_skip.fit(matriz_vetores_treino_skip, dados_treino.category)\n",
        "label_prevista_skip = LR_skip.predict(matriz_vetores_teste_skip)\n",
        "\n",
        "print(classification_report(dados_teste.category, label_prevista_skip))"
      ],
      "metadata": {
        "colab": {
          "base_uri": "https://localhost:8080/"
        },
        "id": "pTrB-04XsTBB",
        "outputId": "9f96257e-28d1-4e1f-b088-b20a991a2c9f"
      },
      "execution_count": null,
      "outputs": [
        {
          "output_type": "stream",
          "name": "stdout",
          "text": [
            "              precision    recall  f1-score   support\n",
            "\n",
            "     colunas       0.86      0.72      0.78      6103\n",
            "   cotidiano       0.63      0.81      0.70      1698\n",
            "     esporte       0.93      0.89      0.91      4663\n",
            "   ilustrada       0.15      0.91      0.26       131\n",
            "     mercado       0.84      0.81      0.83      5867\n",
            "       mundo       0.76      0.86      0.80      2051\n",
            "\n",
            "    accuracy                           0.81     20513\n",
            "   macro avg       0.69      0.83      0.71     20513\n",
            "weighted avg       0.84      0.81      0.82     20513\n",
            "\n"
          ]
        }
      ]
    }
  ]
}