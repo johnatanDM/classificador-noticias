{
  "nbformat": 4,
  "nbformat_minor": 0,
  "metadata": {
    "colab": {
      "provenance": []
    },
    "kernelspec": {
      "name": "python3",
      "display_name": "Python 3"
    },
    "language_info": {
      "name": "python"
    }
  },
  "cells": [
    {
      "cell_type": "code",
      "execution_count": 1,
      "metadata": {
        "colab": {
          "base_uri": "https://localhost:8080/"
        },
        "id": "v6sv3mgqb300",
        "outputId": "609a22aa-ee56-4af1-8e02-263ed6e31bcd"
      },
      "outputs": [
        {
          "output_type": "stream",
          "name": "stdout",
          "text": [
            "/usr/local/lib/python3.8/dist-packages/torch/cuda/__init__.py:497: UserWarning: Can't initialize NVML\n",
            "  warnings.warn(\"Can't initialize NVML\")\n",
            "2023-01-05 19:39:20.109371: E tensorflow/stream_executor/cuda/cuda_driver.cc:271] failed call to cuInit: CUDA_ERROR_NO_DEVICE: no CUDA-capable device is detected\n",
            "Looking in indexes: https://pypi.org/simple, https://us-python.pkg.dev/colab-wheels/public/simple/\n",
            "Collecting pt-core-news-sm==3.4.0\n",
            "  Downloading https://github.com/explosion/spacy-models/releases/download/pt_core_news_sm-3.4.0/pt_core_news_sm-3.4.0-py3-none-any.whl (13.0 MB)\n",
            "\u001b[2K     \u001b[90m━━━━━━━━━━━━━━━━━━━━━━━━━━━━━━━━━━━━━━━━\u001b[0m \u001b[32m13.0/13.0 MB\u001b[0m \u001b[31m58.6 MB/s\u001b[0m eta \u001b[36m0:00:00\u001b[0m\n",
            "\u001b[?25hRequirement already satisfied: spacy<3.5.0,>=3.4.0 in /usr/local/lib/python3.8/dist-packages (from pt-core-news-sm==3.4.0) (3.4.4)\n",
            "Requirement already satisfied: jinja2 in /usr/local/lib/python3.8/dist-packages (from spacy<3.5.0,>=3.4.0->pt-core-news-sm==3.4.0) (2.11.3)\n",
            "Requirement already satisfied: pathy>=0.3.5 in /usr/local/lib/python3.8/dist-packages (from spacy<3.5.0,>=3.4.0->pt-core-news-sm==3.4.0) (0.10.1)\n",
            "Requirement already satisfied: preshed<3.1.0,>=3.0.2 in /usr/local/lib/python3.8/dist-packages (from spacy<3.5.0,>=3.4.0->pt-core-news-sm==3.4.0) (3.0.8)\n",
            "Requirement already satisfied: typer<0.8.0,>=0.3.0 in /usr/local/lib/python3.8/dist-packages (from spacy<3.5.0,>=3.4.0->pt-core-news-sm==3.4.0) (0.7.0)\n",
            "Requirement already satisfied: langcodes<4.0.0,>=3.2.0 in /usr/local/lib/python3.8/dist-packages (from spacy<3.5.0,>=3.4.0->pt-core-news-sm==3.4.0) (3.3.0)\n",
            "Requirement already satisfied: thinc<8.2.0,>=8.1.0 in /usr/local/lib/python3.8/dist-packages (from spacy<3.5.0,>=3.4.0->pt-core-news-sm==3.4.0) (8.1.6)\n",
            "Requirement already satisfied: catalogue<2.1.0,>=2.0.6 in /usr/local/lib/python3.8/dist-packages (from spacy<3.5.0,>=3.4.0->pt-core-news-sm==3.4.0) (2.0.8)\n",
            "Requirement already satisfied: requests<3.0.0,>=2.13.0 in /usr/local/lib/python3.8/dist-packages (from spacy<3.5.0,>=3.4.0->pt-core-news-sm==3.4.0) (2.25.1)\n",
            "Requirement already satisfied: tqdm<5.0.0,>=4.38.0 in /usr/local/lib/python3.8/dist-packages (from spacy<3.5.0,>=3.4.0->pt-core-news-sm==3.4.0) (4.64.1)\n",
            "Requirement already satisfied: murmurhash<1.1.0,>=0.28.0 in /usr/local/lib/python3.8/dist-packages (from spacy<3.5.0,>=3.4.0->pt-core-news-sm==3.4.0) (1.0.9)\n",
            "Requirement already satisfied: pydantic!=1.8,!=1.8.1,<1.11.0,>=1.7.4 in /usr/local/lib/python3.8/dist-packages (from spacy<3.5.0,>=3.4.0->pt-core-news-sm==3.4.0) (1.10.2)\n",
            "Requirement already satisfied: srsly<3.0.0,>=2.4.3 in /usr/local/lib/python3.8/dist-packages (from spacy<3.5.0,>=3.4.0->pt-core-news-sm==3.4.0) (2.4.5)\n",
            "Requirement already satisfied: numpy>=1.15.0 in /usr/local/lib/python3.8/dist-packages (from spacy<3.5.0,>=3.4.0->pt-core-news-sm==3.4.0) (1.21.6)\n",
            "Requirement already satisfied: spacy-loggers<2.0.0,>=1.0.0 in /usr/local/lib/python3.8/dist-packages (from spacy<3.5.0,>=3.4.0->pt-core-news-sm==3.4.0) (1.0.4)\n",
            "Requirement already satisfied: wasabi<1.1.0,>=0.9.1 in /usr/local/lib/python3.8/dist-packages (from spacy<3.5.0,>=3.4.0->pt-core-news-sm==3.4.0) (0.10.1)\n",
            "Requirement already satisfied: packaging>=20.0 in /usr/local/lib/python3.8/dist-packages (from spacy<3.5.0,>=3.4.0->pt-core-news-sm==3.4.0) (21.3)\n",
            "Requirement already satisfied: setuptools in /usr/local/lib/python3.8/dist-packages (from spacy<3.5.0,>=3.4.0->pt-core-news-sm==3.4.0) (57.4.0)\n",
            "Requirement already satisfied: smart-open<7.0.0,>=5.2.1 in /usr/local/lib/python3.8/dist-packages (from spacy<3.5.0,>=3.4.0->pt-core-news-sm==3.4.0) (6.3.0)\n",
            "Requirement already satisfied: spacy-legacy<3.1.0,>=3.0.10 in /usr/local/lib/python3.8/dist-packages (from spacy<3.5.0,>=3.4.0->pt-core-news-sm==3.4.0) (3.0.10)\n",
            "Requirement already satisfied: cymem<2.1.0,>=2.0.2 in /usr/local/lib/python3.8/dist-packages (from spacy<3.5.0,>=3.4.0->pt-core-news-sm==3.4.0) (2.0.7)\n",
            "Requirement already satisfied: pyparsing!=3.0.5,>=2.0.2 in /usr/local/lib/python3.8/dist-packages (from packaging>=20.0->spacy<3.5.0,>=3.4.0->pt-core-news-sm==3.4.0) (3.0.9)\n",
            "Requirement already satisfied: typing-extensions>=4.1.0 in /usr/local/lib/python3.8/dist-packages (from pydantic!=1.8,!=1.8.1,<1.11.0,>=1.7.4->spacy<3.5.0,>=3.4.0->pt-core-news-sm==3.4.0) (4.4.0)\n",
            "Requirement already satisfied: idna<3,>=2.5 in /usr/local/lib/python3.8/dist-packages (from requests<3.0.0,>=2.13.0->spacy<3.5.0,>=3.4.0->pt-core-news-sm==3.4.0) (2.10)\n",
            "Requirement already satisfied: certifi>=2017.4.17 in /usr/local/lib/python3.8/dist-packages (from requests<3.0.0,>=2.13.0->spacy<3.5.0,>=3.4.0->pt-core-news-sm==3.4.0) (2022.12.7)\n",
            "Requirement already satisfied: chardet<5,>=3.0.2 in /usr/local/lib/python3.8/dist-packages (from requests<3.0.0,>=2.13.0->spacy<3.5.0,>=3.4.0->pt-core-news-sm==3.4.0) (4.0.0)\n",
            "Requirement already satisfied: urllib3<1.27,>=1.21.1 in /usr/local/lib/python3.8/dist-packages (from requests<3.0.0,>=2.13.0->spacy<3.5.0,>=3.4.0->pt-core-news-sm==3.4.0) (1.24.3)\n",
            "Requirement already satisfied: blis<0.8.0,>=0.7.8 in /usr/local/lib/python3.8/dist-packages (from thinc<8.2.0,>=8.1.0->spacy<3.5.0,>=3.4.0->pt-core-news-sm==3.4.0) (0.7.9)\n",
            "Requirement already satisfied: confection<1.0.0,>=0.0.1 in /usr/local/lib/python3.8/dist-packages (from thinc<8.2.0,>=8.1.0->spacy<3.5.0,>=3.4.0->pt-core-news-sm==3.4.0) (0.0.3)\n",
            "Requirement already satisfied: click<9.0.0,>=7.1.1 in /usr/local/lib/python3.8/dist-packages (from typer<0.8.0,>=0.3.0->spacy<3.5.0,>=3.4.0->pt-core-news-sm==3.4.0) (7.1.2)\n",
            "Requirement already satisfied: MarkupSafe>=0.23 in /usr/local/lib/python3.8/dist-packages (from jinja2->spacy<3.5.0,>=3.4.0->pt-core-news-sm==3.4.0) (2.0.1)\n",
            "Installing collected packages: pt-core-news-sm\n",
            "Successfully installed pt-core-news-sm-3.4.0\n",
            "\u001b[38;5;2m✔ Download and installation successful\u001b[0m\n",
            "You can now load the package via spacy.load('pt_core_news_sm')\n"
          ]
        }
      ],
      "source": [
        "!python -m spacy download pt_core_news_sm"
      ]
    },
    {
      "cell_type": "code",
      "source": [
        "import spacy\n",
        "import numpy as np\n",
        "from gensim.models import KeyedVectors\n",
        "import pandas as pd\n",
        "\n",
        "w2v_modelo_cbow = KeyedVectors.load_word2vec_format(\"/content/drive/MyDrive/Word2Vec/modelo_cbow.txt\")\n",
        "w2v_modelo_sg = KeyedVectors.load_word2vec_format(\"/content/drive/MyDrive/Word2Vec/modelo_skip.txt\")\n",
        "\n",
        "dados_treino = pd.read_csv('https://caelum-online-public.s3.amazonaws.com/1638-word-embedding/treino.csv')\n",
        "dados_teste = pd.read_csv('https://caelum-online-public.s3.amazonaws.com/1638-word-embedding/teste.csv')"
      ],
      "metadata": {
        "id": "5qbNKif2fJUd"
      },
      "execution_count": 13,
      "outputs": []
    },
    {
      "cell_type": "code",
      "source": [
        "nlp = spacy.load(\"pt_core_news_sm\", disable=[\"paser\", \"ner\", \"tagger\", \"textcat\"])\n",
        "def tokenizador(texto):\n",
        "  doc = nlp(texto)\n",
        "  tokens_validos = []\n",
        "\n",
        "  for token in doc:\n",
        "    eh_valido = not token.is_stop and token.is_alpha\n",
        "    if eh_valido:\n",
        "      tokens_validos.append(token.text.lower())\n",
        "\n",
        "  return tokens_validos\n",
        "\n",
        "texto = \"Fortaleza é uma cidade $$$$ 55555 ##### incrível!!!\"\n",
        "tokens = tokenizador(texto)\n",
        "\n",
        "print(tokens)"
      ],
      "metadata": {
        "colab": {
          "base_uri": "https://localhost:8080/"
        },
        "id": "77g9qtJLdALs",
        "outputId": "9a5d1269-6bc9-431b-aa82-2b3f716b35ae"
      },
      "execution_count": 7,
      "outputs": [
        {
          "output_type": "stream",
          "name": "stdout",
          "text": [
            "['fortaleza', 'cidade', 'incrível']\n"
          ]
        }
      ]
    },
    {
      "cell_type": "code",
      "source": [
        "def combinacao_vetores_por_soma(palavras, modelo):\n",
        "  vetor_resultante = np.zeros(300)\n",
        "\n",
        "  for pn in palavras:\n",
        "    try:\n",
        "      vetor_resultante += modelo.get_vector(pn)\n",
        "    except KeyError:\n",
        "      pass\n",
        "  return vetor_resultante\n",
        "\n",
        "vetor_texto = combinacao_vetores_por_soma(tokens, w2v_modelo_cbow)\n",
        "print(vetor_texto.shape)\n",
        "print(vetor_texto)"
      ],
      "metadata": {
        "colab": {
          "base_uri": "https://localhost:8080/"
        },
        "id": "KwvWWA0hc4_K",
        "outputId": "0fda879b-034c-4804-cde2-18b65794a2d3"
      },
      "execution_count": 12,
      "outputs": [
        {
          "output_type": "stream",
          "name": "stdout",
          "text": [
            "(300,)\n",
            "[-0.41248731 -0.69784693  0.24261412  1.35988978  1.17959978 -0.19188082\n",
            " -0.14235481  0.16240515 -0.7801791  -0.02844487 -0.60636262 -0.19565268\n",
            "  0.96479266  0.72234389  1.12243676  2.19772688  0.40561893  0.28030168\n",
            " -2.00362372  0.07078053 -1.15371765  1.18468623 -1.11321665  1.58370996\n",
            " -0.15997236  1.97695974  0.759952    1.76944063 -0.36425824  0.55207171\n",
            "  0.86069857  1.34679293 -0.01148035  0.25165271  0.31117812  0.08389964\n",
            " -0.9710695   0.46957761 -0.68102858  0.45465656 -0.8321553  -0.70454323\n",
            "  1.45618498 -0.23971074 -0.87767038  0.5276929   1.66046585 -0.84398486\n",
            " -0.80878198 -1.02992272  0.12113244 -1.98247769 -0.54525698 -0.35189296\n",
            "  0.39910114  0.30594108  0.526636    0.66826106 -0.78611574 -0.55135212\n",
            "  1.6701844   1.04422495  0.25188231  1.87358974 -0.37380314 -0.25829713\n",
            " -0.64687449  0.49873542 -1.00642863 -0.03128857  0.89258738  1.66749043\n",
            "  1.04680514 -1.28668229  0.9833913   2.66784656  1.81418898 -0.75354861\n",
            " -0.11334311  0.93812709  0.97986634 -1.16234649  0.1011175   0.34905616\n",
            " -0.26712929 -0.82352817  1.03481505 -2.06150659 -0.37147339 -0.3408403\n",
            " -1.12470236  0.10895005  0.04976557 -0.37809741 -0.88780201  1.25239533\n",
            " -1.38349898 -1.14315128 -0.2447597  -1.09257228  0.86005254  0.6805208\n",
            " -0.68233145  0.36195168  0.17531155  0.81800726 -0.40842147 -1.6660997\n",
            " -0.4782878   1.19717433  0.53601865 -1.25915283 -0.27905925  1.06394486\n",
            "  1.20634896 -0.45486316  0.09451969  0.60248162 -1.43142279 -0.44707962\n",
            " -1.20076706 -0.82758536 -0.91887251 -1.47440385 -0.52647603  0.57031994\n",
            " -0.66216933  0.47859799 -0.13496929  0.9097614   0.65420681  0.08012709\n",
            "  0.92690228 -0.47382353 -0.47325891  0.21545259  2.10953759 -1.67413446\n",
            "  0.54474837 -1.55437794  0.38839053  0.50674576  0.12589694  0.4279498\n",
            "  1.4241783  -1.51512832  1.55048172  1.178647   -1.61409881 -0.81717844\n",
            " -0.28078414 -1.09841221 -0.69023766 -0.59430043 -0.66900185  1.53886481\n",
            "  0.00560967 -0.12729457 -1.04384293 -1.57032494  0.62051965 -1.13891511\n",
            " -0.93570531 -0.94930925  0.07349838  0.17132466 -0.84307618 -0.77814322\n",
            " -0.7452973  -0.82981452 -2.59150255  0.77200195  0.39619339  1.47361989\n",
            "  0.32182355 -0.2380634  -1.35419632  0.98254599 -0.79603747  1.37167088\n",
            " -0.14337952  1.21979731  0.0424242  -0.28999868  0.51304875  0.28425694\n",
            " -1.35721129  0.7651692  -0.5843616  -0.13383809 -0.90120451  0.36623374\n",
            "  1.54578023  0.29354396 -1.05718488 -1.01118941 -0.19369786  0.1203527\n",
            "  0.48900043  0.3877314   0.6567996  -1.04608257  1.13765964 -0.54924355\n",
            "  0.09497461 -0.42423225 -2.73485342  2.46340262  1.04572021  0.73098018\n",
            " -0.34653424  0.07093699  0.21522928  1.01821027 -0.64968739  0.05815905\n",
            "  1.53038283  0.28389177 -0.90923645  0.17660703 -0.80174585  0.30815615\n",
            "  0.79820733  0.75888901  1.50624408 -0.90286646  0.06301108  0.34839436\n",
            " -0.17591009  1.33871772 -1.58537418 -0.15840121 -1.8131901  -0.39773173\n",
            " -0.01720009 -0.08613367 -0.6714131  -0.62517546 -1.05461252  1.02430756\n",
            " -1.75139597 -0.05514826  0.36946523 -0.93513347 -0.31841449  1.14009821\n",
            "  0.11242873 -0.97936096 -0.7039125   0.09707905 -0.20947802  0.58196876\n",
            " -1.49194692  0.21148625 -0.31572367 -1.62881432  1.41040194  0.96745332\n",
            " -0.07406122  0.19640009  0.81235167  0.52729583 -1.21907329 -0.90812411\n",
            " -0.5277524   0.12654918 -0.19827875 -0.07321085 -0.46341287  1.43107047\n",
            "  0.16043177 -0.88772202  1.64278272  1.07087293  1.15286479 -0.21061826\n",
            " -1.13667335 -0.26116025 -0.2543954   0.39848495 -0.37531701  0.43263408\n",
            " -0.04448834 -0.37524061  0.72833074  1.62170373 -0.47325226  0.72231552\n",
            "  0.32861128  0.78666532 -0.95239     0.27192692  0.27912659  0.97416429\n",
            "  2.56411861 -0.76076294 -1.17369472  1.83652216 -0.30545195  0.66275504]\n"
          ]
        }
      ]
    },
    {
      "cell_type": "code",
      "source": [
        "def matriz_vetores(textos, modelo):\n",
        "  x = len(textos)\n",
        "  y = 300\n",
        "  matriz = np.zeros((x,y))\n",
        "\n",
        "  for i in range(x):\n",
        "    palavras = tokenizador(textos.iloc[i])\n",
        "    matriz[i] = combinacao_vetores_por_soma(palavras, modelo)\n",
        "\n",
        "  return matriz\n",
        "\n",
        "\n",
        "matriz_vetores_treino_cbow = matriz_vetores(dados_treino.title, w2v_modelo_cbow)\n",
        "matriz_vetores_teste_cbow = matriz_vetores(dados_teste.title, w2v_modelo_cbow)\n",
        "\n",
        "print(matriz_vetores_treino_cbow.shape)\n",
        "print(matriz_vetores_teste_cbow.shape)"
      ],
      "metadata": {
        "colab": {
          "base_uri": "https://localhost:8080/"
        },
        "id": "8vgzo_gqcvav",
        "outputId": "6493780c-cf62-44df-a0cd-2a851aa8bf28"
      },
      "execution_count": 14,
      "outputs": [
        {
          "output_type": "stream",
          "name": "stdout",
          "text": [
            "(90000, 300)\n",
            "(20513, 300)\n"
          ]
        }
      ]
    },
    {
      "cell_type": "code",
      "source": [
        "from sklearn.linear_model import LogisticRegression\n",
        "from sklearn.metrics import classification_report\n",
        "\n",
        "def classificador(modelo, x_treino, y_treino, x_teste, y_teste):\n",
        "  RL = LogisticRegression(max_iter=800)\n",
        "  RL.fit(x_treino, y_treino)\n",
        "  categorias = RL.predict(x_teste)\n",
        " \n",
        "  resultados = classification_report(y_teste, categorias)\n",
        "  print(resultados)\n",
        "  return RL\n",
        "RL_cbow = classificador(w2v_modelo_cbow,\n",
        "        matriz_vetores_treino_cbow,\n",
        "        dados_treino.category,\n",
        "        matriz_vetores_teste_cbow,\n",
        "        dados_teste.category)"
      ],
      "metadata": {
        "colab": {
          "base_uri": "https://localhost:8080/"
        },
        "id": "ASRk5th3kLUJ",
        "outputId": "31cadd4d-776c-47ba-9b8d-f598ebaace29"
      },
      "execution_count": 16,
      "outputs": [
        {
          "output_type": "stream",
          "name": "stdout",
          "text": [
            "              precision    recall  f1-score   support\n",
            "\n",
            "     colunas       0.80      0.71      0.75      6103\n",
            "   cotidiano       0.63      0.80      0.71      1698\n",
            "     esporte       0.93      0.86      0.89      4663\n",
            "   ilustrada       0.13      0.85      0.23       131\n",
            "     mercado       0.83      0.78      0.81      5867\n",
            "       mundo       0.73      0.83      0.78      2051\n",
            "\n",
            "    accuracy                           0.78     20513\n",
            "   macro avg       0.68      0.80      0.69     20513\n",
            "weighted avg       0.81      0.78      0.80     20513\n",
            "\n"
          ]
        }
      ]
    },
    {
      "cell_type": "code",
      "source": [
        "matriz_vetores_treino_sg = matriz_vetores(dados_treino.title, w2v_modelo_sg)\n",
        "matriz_vetores_teste_sg = matriz_vetores(dados_teste.title, w2v_modelo_sg)\n",
        "\n",
        "print(matriz_vetores_treino_sg.shape)\n",
        "print(matriz_vetores_teste_sg.shape)\n",
        "\n",
        "RL_sg = classificador(w2v_modelo_sg,\n",
        "        matriz_vetores_treino_sg,\n",
        "        dados_treino.category,\n",
        "        matriz_vetores_teste_sg,\n",
        "        dados_teste.category)"
      ],
      "metadata": {
        "colab": {
          "base_uri": "https://localhost:8080/"
        },
        "id": "Yv7GnIVYl9_N",
        "outputId": "db0dc410-9913-42f6-f320-4124db8a71ca"
      },
      "execution_count": 17,
      "outputs": [
        {
          "output_type": "stream",
          "name": "stdout",
          "text": [
            "(90000, 300)\n",
            "(20513, 300)\n",
            "              precision    recall  f1-score   support\n",
            "\n",
            "     colunas       0.81      0.71      0.76      6103\n",
            "   cotidiano       0.64      0.80      0.71      1698\n",
            "     esporte       0.93      0.87      0.90      4663\n",
            "   ilustrada       0.14      0.87      0.24       131\n",
            "     mercado       0.84      0.79      0.82      5867\n",
            "       mundo       0.75      0.84      0.79      2051\n",
            "\n",
            "    accuracy                           0.79     20513\n",
            "   macro avg       0.69      0.82      0.70     20513\n",
            "weighted avg       0.82      0.79      0.80     20513\n",
            "\n"
          ]
        }
      ]
    },
    {
      "cell_type": "code",
      "source": [
        "import pickle \n",
        "\n",
        "with open(\"/content/drive/MyDrive/Word2Vec/RL_cbow.pkl\", \"wb\") as f:\n",
        "  pickle.dump(RL_cbow, f)\n",
        "\n",
        "with open(\"/content/drive/MyDrive/Word2Vec/RL_sg.pkl\", \"wb\") as f:\n",
        "  pickle.dump(RL_sg, f)"
      ],
      "metadata": {
        "id": "OCiA6e5rosaH"
      },
      "execution_count": 18,
      "outputs": []
    }
  ]
}